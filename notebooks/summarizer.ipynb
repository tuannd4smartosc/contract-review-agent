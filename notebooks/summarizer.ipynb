{
 "cells": [
  {
   "cell_type": "code",
   "execution_count": 39,
   "id": "2be5b1bf",
   "metadata": {},
   "outputs": [],
   "source": [
    "sample_contract = \"\"\"\n",
    "\t\n",
    "82006597.1\t\t NON-DISCLOSURE AGREEMENT   This Confidentiality & Non-Disclosure Agreement (the “Agreement”) is made and entered into this __ day of _________, 2015 (the “Effective Date”), by and among, __________________, a [Delaware] business corporation, and its subsidiaries and related entities, (hereinafter collectively the \"Holder\") and Delaware VDA Administrators LLC, a Delaware limited liability company (hereinafter the \"Agent\") (at times Holder and Agent shall be individually referred to as a “Party” and collectively as the “Parties”).    1. Purpose:  Agent will be assisting the State of Delaware, Secretary of State (hereinafter the “State”), in administering the State’s abandoned property reporting outreach program pursuant to 12 Del. C. §1177 (the “VDA Program”), in which the State has accepted the Holder’s enrollment. In connection with the VDA Program, each Party understands that the other Party has disclosed or may disclose to the other certain confidential, technical and business information (“Confidential Information”) which at least one Party desires to treat as confidential.   2. Confidential Information: Confidential information means any information disclosed by one party (the “Disclosing Party”) to the other party (the “Receiving Party”), either directly or indirectly, in writing, orally or by inspection of tangible objects (including, without limitation, computer programs, computer code, inventions (whether or not patentable), techniques, processes, methodologies, schematics, testing procedures, software design and architecture, technical information, details of products or product lines, prototypes, samples, plant and equipment, as well as names and expertise of employees, consultants, customers and prospects, know-how, ideas, business, financial, marketing, forecasts, strategies, and other information, previously, presently, or subsequently disclosed to the Receiving Party) and designated by the Disclosing Party as confidential. Confidential Information shall include any analyses, compilations, studies, summaries, extracts or other documentation prepared by the Receiving Party based on Confidential Information.  3. Public Information:   Notwithstanding any other provision of this Agreement, information shall not be, or shall cease to be, Confidential Information hereunder: (a) if such information is known to the Receiving Party prior to disclosure to the Receiving Party thereof by the Disclosing Party, as demonstrated by written records in existence at the time of disclosure; (b) after such information is published or becomes available to others, without restriction and without breach of this Agreement by the Receiving Party; (c) after such information becomes available to the Receiving Party from others who are not in breach of any obligation to hold such information in confidence (to the best of the Receiving Party's knowledge, after reasonable inquiry); or (d) if such information is developed by the Receiving Party independent of any disclosure of such information by the Disclosing Party and without any use of the Confidential Information of the Disclosing Party as demonstrated by written records created at the time of such independent development.  4. Non-disclosure Obligation: Each party agrees not to use any Confidential Information of the Disclosing Party for any purpose except to evaluate and engage in discussions concerning the Purpose and to execute the Purpose between the parties.  Unless otherwise agreed to in writing by the Disclosing Party, the Receiving Party agrees (a) not to disclose, or permit its Affiliates to disclose, other than for purposes associated with the pursuit of the VDA Program, Confidential Information, or the existence of this Agreement and/or the discussions relating to the VDA Program; (b) to use the same degree of care and diligence to protect Confidential Information from disclosure to others as the Receiving Party employs or should reasonably employ to so protect its own information of like confidence (but in no event less than reasonable care); (c) not \t\n",
    "82006597.1\t\tto use reproduce or copy the Confidential Information, in whole or in part except as necessary for the evaluation or conduct of the VDA Program; and (d) to immediately notify the Disclosing Party upon discovery of any loss or unauthorized disclosure of the of the Confidential Information by the Receiving Party.  Notwithstanding the foregoing, the Receiving Party may disclose the Confidential Information to such of the State, the Receiving Party's Affiliates or the employees, consultants, legal and tax advisers, and agents of the Receiving Party or its Affiliates (each a \"Receiving Party Representative\") which the Receiving Party reasonably and in good faith believes are needed to be involved in the evaluation or performance of the VDA Program, provided such Receiving Party Representative is informed of this Agreement and agrees to be bound by the terms hereof, and the Receiving Party uses reasonable efforts to cause the Receiving Party Representative to comply with the terms of this Agreement.  The Receiving Party shall not reverse-engineer, decompile, or disassemble any software disclosed to it under this Agreement.  The Receiving Party agrees that a breach of this Agreement by a Receiving Party Representative shall constitute a breach of this Agreement by the Receiving Party. In the event that the Receiving Party is required by applicable law, rule, regulation or lawful order or ruling of any court, government agency or regulatory commission to disclose any Confidential Information, the Receiving Party agrees that it will provide the Disclosing Party with prompt notice of such requirement to enable the Disclosing Party to seek an appropriate protective order or to take steps to protect the confidentiality of such Confidential Information, and in the event such protection is not obtained, the Receiving Party agrees that it will disclose only that portion of the Confidential Information which it is legally required to disclose.  The Parties obligation of confidentiality shall survive the termination of the VDA Program, the termination of this Agreement, and/or the expiration or termination of Agent’s engagement by the State.    5. No Additional Rights. Unless otherwise agreed in writing, the Receiving Party shall not have any rights or obligations respecting the Confidential Information other than those specifically set forth in this Agreement. Without limiting the generality of any other provision of this Agreement, and unless otherwise agreed in writing: (a) no license is hereby or otherwise granted, directly or indirectly, under any patent, copyright or other proprietary right of the Disclosing Party; and (b) neither Party shall be obligated to disclose information to the other Party or to enter into any further agreements relating to the Purpose.  Unless otherwise agreed in writing, a Party and its Affiliates may terminate discussions regarding the VDA Program at any time.  The Receiving Party's obligations under this Agreement respecting the Confidential Information shall survive termination of such discussions.  6. No License. Each party shall retain all right, title and interest to such party’s Confidential Information. Nothing in this Agreement grants or implies any rights or license to either party under any patent, mask work right or copyright of the other party, nor shall this Agreement grant any party any rights or license in or to the Confidential Information of the other party except as expressly set forth herein.  7. Term.  The term of this Agreement shall be three years from the Effective Date.  8. Announcements. Neither party shall, without the prior written consent of the other, make any statement or public announcement to trade publications or to the press or make any statement to any competitor, customer, lender, shareholder, or any other third party having a business relationship with the other, with respect to the discussions contemplated by this Agreement.  \t\n",
    "82006597.1\t\t9. Expenses.  Any money, expenses or losses expended or incurred by the Parties in preparation for, or as a result of this Agreement is at each Party’s sole cost and expense.  In other words, each Party is responsible for its own costs and expenses concerning or arising from this Agreement.  10. Injunctive Relief. Each Party acknowledges and agrees that the unauthorized disclosure of Confidential Information by the Receiving Party may cause irreparable harm to the Disclosing Party. As a result thereof, in addition to any other remedies available, the Disclosing Party shall be entitled to seek specific performance or other appropriate injunctive relief in a court of competent jurisdiction in order to enforce the Receiving Party's obligations hereunder.  11. Prior Disclosures. The parties each confirm that any Confidential Information disclosed to the other, and any discussions held between them, prior to the Effective Date of this Agreement are subject to the terms of this Agreement.   12. Other Provisions. The Parties further agree that. unless otherwise agreed in writing: (a) this Agreement shall be governed by the laws of the State of Delaware, without giving effect to the principles of conflict of laws thereof; (b) this Agreement sets forth the entire agreement and understanding between the Parties with respect to the subject matter hereof, and none of the terms of this Agreement may be amended or modified except by a written instrument signed by both Parties; (c) a Party may waive any rights under this Agreement only by written waiver duly signed by such Party and no failure to exercise or delay in exercising a right under this Agreement shall constitute a waiver of such right; (d) the rights and obligations of each Party under this Agreement may not be assigned or delegated. by operation of law or otherwise, without the consent of the other Party and any such attempt shall be void; (e) this  Agreement shall inure to the benefit of the Parties hereto and their respective successors and permitted assigns; (f) no provision of this Agreement shall affect limit or restrict either Party's right to engage in any business in any place and at any time whatsoever provided the Receiving Party does not use, reproduce, copy or disclose the Confidential Information in violation of this Agreement;   (g) the invalidity or unenforceability of any provision of this Agreement shall not affect the validity or enforceability of any other provision of this Agreement; (h) all notices under this Agreement must be in writing and shall be deemed to have been delivered to and received by a Party and will otherwise become effective on the date of actual delivery thereof (by personal delivery, express delivery service or certified mail) to the Notice Address of such Party set forth below; (i) this Agreement may be executed in counterparts; and (j) signatures exchanged by facsimile or PDF are effective for all purposes hereunder to the same extent as original signatures.  IN WITNESS WHEREOF, the Parties have executed this Agreement as of the Effective Date.  Delaware VDA Administrators LLC   Holder  By:        By:       (Signature)       (Signature)  Printed:        Printed Name:  Geoffrey A. Sawyer, III    Name:    Title:  President     Title:     Notice Address:      Notice Address: PO Box 26166 Wilmington, DE 19899-6166       \t\n",
    "82006597.1\t\t      Attn:  Geoffrey Sawyer    Attn:       \n",
    "\"\"\""
   ]
  },
  {
   "cell_type": "code",
   "execution_count": null,
   "id": "e587b498",
   "metadata": {},
   "outputs": [],
   "source": [
    "from qdrant_client import QdrantClient, models\n",
    "from qdrant_client.models import SearchParams, FieldCondition, Filter\n",
    "from dotenv import load_dotenv\n",
    "import asyncio\n",
    "from openai import OpenAI\n",
    "\n",
    "load_dotenv() \n",
    "\n",
    "client = OpenAI()\n",
    "\n",
    "qdrant_client = QdrantClient(\"http://localhost:6333\") \n",
    "collection_name = \"doc_vectors\"\n",
    "\n",
    "async def get_openai_embedding(text, model=\"text-embedding-ada-002\"):\n",
    "    \"\"\"Wraps the sync OpenAI call in a thread to make it async-compatible.\"\"\"\n",
    "    def sync_embed():\n",
    "        return client.embeddings.create(input=text, model=model)\n",
    "\n",
    "    try:\n",
    "        response = await asyncio.to_thread(sync_embed)\n",
    "        return response.data[0].embedding\n",
    "    except Exception as e:\n",
    "        print(f\"Error getting OpenAI embedding: {e}\")\n",
    "        return None\n",
    "\n",
    "async def retrieve_relevant_chunks(query, top_k=5, filter_condition=None):\n",
    "    # Build the filter if provided\n",
    "    filter = None\n",
    "    if filter_condition:\n",
    "        filter = models.Filter(\n",
    "            must=[\n",
    "                models.FieldCondition(\n",
    "                    key=filter_condition['key'],\n",
    "                    match=models.MatchValue(value=filter_condition['match']['value'])\n",
    "                )\n",
    "            ]\n",
    "        )\n",
    "\n",
    "    # Perform the search with the filter\n",
    "    search_results = qdrant_client.query_points(\n",
    "        collection_name=collection_name,\n",
    "        limit=top_k,\n",
    "        query_filter=filter,\n",
    "        with_payload=True\n",
    "    )\n",
    "\n",
    "    # Return the relevant text from the search results\n",
    "    return search_results"
   ]
  },
  {
   "cell_type": "code",
   "execution_count": null,
   "id": "0b924a49",
   "metadata": {},
   "outputs": [
    {
     "name": "stdout",
     "output_type": "stream",
     "text": [
      "points=[ScoredPoint(id=0, version=0, score=0.0, payload={'text': 'Value Management Framework  \\n \\n1 \\n \\nWriting Clear and Effective Statements of Work  \\nOVERVIEW  \\nThe Statement of Work  (SOW)  is a detailed description of what is required of the contractor to \\nsatisfactorily perform the work. It is very important as it forms the basic framework for the \\nresulting contract  and details the work requirements for projects and programs that have \\nproducts, deliverables and/or services performed . Your planning work serves as  the foundation \\nfor the Statem ent of Work.  \\nThe success or failure of a contract can usually be linked to the adequacy of the planning, \\nanalysis and thoroughness of the SOW . Therefore, it  is very important that the SOW :  \\n• Secure the best economic advantage using  best value;  \\n• Be clearly defined;  \\n• Be contractually sound;  \\n• Be unbiased and non -prejudiced toward respondents;  \\n• Encourage innovative solutions to the requirements described, if appropriate; and', 'chunk_index': 0, 'source': 'documents/contracts/Writing_Clear_and_Effective_St_45_Writing_Clear_and_Effective_Statements_of_Work.pdf'}, vector=None, shard_key=None, order_value=None), ScoredPoint(id=1, version=0, score=0.0, payload={'text': '• Be clearly defined;  \\n• Be contractually sound;  \\n• Be unbiased and non -prejudiced toward respondents;  \\n• Encourage innovative solutions to the requirements described, if appropriate; and  \\n• Allow for free and open competition to the maximum extent reasonably possible.  \\n \\nSPECIF ICATIONS  \\nA specification is a description of a product or service a user seeks to procure, and is also a \\ndescription of what a bidder must offer to be considered for an award. Specifications are the \\nprimary means of communication between an agency and a vendor. Specifications control:  \\n• The quality level of the product;  \\n• The amount of completion;  \\n• The suitability of the product or service for the job to be done; and  \\n• The method of evaluation used in making an award and in determining the best value bid for \\nthe purchase.  \\nAn effective specification is:  \\nSIMPLE: Avoid unnecessary detail, but be complete enough to ensure that requirements will \\nsatisfy their intended purpose.', 'chunk_index': 1, 'source': 'documents/contracts/Writing_Clear_and_Effective_St_45_Writing_Clear_and_Effective_Statements_of_Work.pdf'}, vector=None, shard_key=None, order_value=None), ScoredPoint(id=2, version=0, score=0.0, payload={'text': 'the purchase.  \\nAn effective specification is:  \\nSIMPLE: Avoid unnecessary detail, but be complete enough to ensure that requirements will \\nsatisfy their intended purpose.  \\nCLEAR: Use terminology that is understandable to the agency and bidders. Use correct spelling \\nand appropriate sentence structure to eliminate confusion. Avoid legalese type language and \\njargon whenever possible.  \\nACCURATE: Use units of measure that are compatible  with industry standards. All quantities \\nand packing requirements should be clearly identified.   \\n2 \\n COMPETITIVE: Identify at least two commercially available brands, makes, or models \\n(whenever possible) that will satisfy the intended purpose. Avoid unneeded “ extras” that could \\nreduce or eliminate competition and increase costs.  \\nFLEXIBLE: Avoid totally inflexible specifications which prevent the acceptance of a bid that \\ncould offer greater performance for fewer dollars. Use approximate values such as dimension s,', 'chunk_index': 2, 'source': 'documents/contracts/Writing_Clear_and_Effective_St_45_Writing_Clear_and_Effective_Statements_of_Work.pdf'}, vector=None, shard_key=None, order_value=None), ScoredPoint(id=3, version=0, score=0.0, payload={'text': 'FLEXIBLE: Avoid totally inflexible specifications which prevent the acceptance of a bid that \\ncould offer greater performance for fewer dollars. Use approximate values such as dimension s, \\nweight, speed, etc. (whenever possible) if they will satisfy the intended purpose. If approximate \\ndimensions are used, it should be within a 10 percent rule of thumb unless otherwise stated.  \\n \\nPERFORMANCE BASED SPECIFICATIONS VS. DESIGN SPECIFICATIONS  \\nThere are three major types of SOWs:  level of effort, where the deliverable is a certain n umber \\nof hours of work; performance based and design based.  \\nPerformance based specifications  focus on outcomes or results rather than process, and the \\nrequired goods and services rather than how the goods and services are produced. It gives the \\ncontractor the freedom to determine how to meet your requirements.  \\n• Performance based specifications al low respondents to bring their own expertise, creativity', 'chunk_index': 3, 'source': 'documents/contracts/Writing_Clear_and_Effective_St_45_Writing_Clear_and_Effective_Statements_of_Work.pdf'}, vector=None, shard_key=None, order_value=None), ScoredPoint(id=4, version=0, score=0.0, payload={'text': 'contractor the freedom to determine how to meet your requirements.  \\n• Performance based specifications al low respondents to bring their own expertise, creativity \\nand resources to the bid process without restricting them to predetermined methods or \\ndetailed processes. This allows the respondents to provide the product or service at less \\ncost and shifts some of  the risk to the contractors.  \\n• Agencies must ensure that performance specifications are reasonable and measurable, and \\nthat the specification clearly outlines how the results will be measured.  \\n• Consider including performance incentives to reward outstanding  performance which \\nexceeds the goals contained in the contract.  \\n• Performance based specifications allow respondents maximum flexibility when satisfying the \\nrequirements of a solicitation. In particular, use  perfo rmance based specifications for  a new \\ninstal lation of an entire system provided by one vendor .', 'chunk_index': 4, 'source': 'documents/contracts/Writing_Clear_and_Effective_St_45_Writing_Clear_and_Effective_Statements_of_Work.pdf'}, vector=None, shard_key=None, order_value=None)]\n"
     ]
    }
   ],
   "source": [
    "relevant_chunks = await retrieve_relevant_chunks(\"non-disclosure\", top_k=5)\n",
    "print(relevant_chunks)"
   ]
  }
 ],
 "metadata": {
  "kernelspec": {
   "display_name": ".venv",
   "language": "python",
   "name": "python3"
  },
  "language_info": {
   "codemirror_mode": {
    "name": "ipython",
    "version": 3
   },
   "file_extension": ".py",
   "mimetype": "text/x-python",
   "name": "python",
   "nbconvert_exporter": "python",
   "pygments_lexer": "ipython3",
   "version": "3.13.2"
  }
 },
 "nbformat": 4,
 "nbformat_minor": 5
}
